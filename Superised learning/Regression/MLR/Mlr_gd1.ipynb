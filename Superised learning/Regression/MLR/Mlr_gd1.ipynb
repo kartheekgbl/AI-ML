{
 "cells": [
  {
   "cell_type": "code",
   "execution_count": 24,
   "metadata": {},
   "outputs": [],
   "source": [
    "#import Python Librarys\n",
    "\n",
    "import pandas as pd\n",
    "import numpy as np\n",
    "import matplotlib.pyplot as plt"
   ]
  },
  {
   "cell_type": "code",
   "execution_count": 25,
   "metadata": {},
   "outputs": [
    {
     "name": "stdout",
     "output_type": "stream",
     "text": [
      "       bedrooms  bathrooms  floors     price\n",
      "0             3       1.00     1.0  221900.0\n",
      "1             3       2.25     2.0  538000.0\n",
      "2             2       1.00     1.0  180000.0\n",
      "3             4       3.00     1.0  604000.0\n",
      "4             3       2.00     1.0  510000.0\n",
      "...         ...        ...     ...       ...\n",
      "21608         3       2.50     3.0  360000.0\n",
      "21609         4       2.50     2.0  400000.0\n",
      "21610         2       0.75     2.0  402101.0\n",
      "21611         3       2.50     2.0  400000.0\n",
      "21612         2       0.75     2.0  325000.0\n",
      "\n",
      "[21613 rows x 4 columns]\n"
     ]
    }
   ],
   "source": [
    "# import Data from  Csv file\n",
    "\n",
    "data=pd.read_csv(\"D:\\\\github-d\\\\AI-ML\\\\Datasets\\\\kc_house_data.csv\")\n",
    "print(data)"
   ]
  },
  {
   "cell_type": "code",
   "execution_count": 26,
   "metadata": {},
   "outputs": [
    {
     "data": {
      "text/plain": [
       "(       bedrooms  bathrooms  floors\n",
       " 0             3       1.00     1.0\n",
       " 1             3       2.25     2.0\n",
       " 2             2       1.00     1.0\n",
       " 3             4       3.00     1.0\n",
       " 4             3       2.00     1.0\n",
       " ...         ...        ...     ...\n",
       " 21608         3       2.50     3.0\n",
       " 21609         4       2.50     2.0\n",
       " 21610         2       0.75     2.0\n",
       " 21611         3       2.50     2.0\n",
       " 21612         2       0.75     2.0\n",
       " \n",
       " [21613 rows x 3 columns],\n",
       " 0        221900.0\n",
       " 1        538000.0\n",
       " 2        180000.0\n",
       " 3        604000.0\n",
       " 4        510000.0\n",
       "            ...   \n",
       " 21608    360000.0\n",
       " 21609    400000.0\n",
       " 21610    402101.0\n",
       " 21611    400000.0\n",
       " 21612    325000.0\n",
       " Name: price, Length: 21613, dtype: float64)"
      ]
     },
     "execution_count": 26,
     "metadata": {},
     "output_type": "execute_result"
    }
   ],
   "source": [
    "# Sepereate the Data as X and y\n",
    "\n",
    "X=data.drop(['price'],axis=1)\n",
    "y=data['price']\n",
    "\n",
    "X,y"
   ]
  },
  {
   "cell_type": "code",
   "execution_count": 27,
   "metadata": {},
   "outputs": [
    {
     "data": {
      "text/plain": [
       "array([[-0.39872792, -1.44743008, -0.91540583],\n",
       "       [-0.39872792,  0.17560263,  0.93648411],\n",
       "       [-1.47392526, -1.44743008, -0.91540583],\n",
       "       ...,\n",
       "       [-1.47392526, -1.77203663,  0.93648411],\n",
       "       [-0.39872792,  0.50020918,  0.93648411],\n",
       "       [-1.47392526, -1.77203663,  0.93648411]])"
      ]
     },
     "execution_count": 27,
     "metadata": {},
     "output_type": "execute_result"
    }
   ],
   "source": [
    "# Standerdization of Data\n",
    "# make sure those are must be contain numaric values\n",
    "\n",
    "X=((X-X.mean())/X.std())\n",
    "\n",
    "\n",
    "# Make them Arrays, we have to do matrix multiplication with arrays\n",
    "X=np.array(X)\n",
    "# To See the result of X and y\n",
    "X"
   ]
  },
  {
   "cell_type": "code",
   "execution_count": 28,
   "metadata": {},
   "outputs": [],
   "source": [
    "\n",
    "# for y predction\n",
    "def predict_y(w,x,b):\n",
    "    y_pred=[]\n",
    "    for i in range (len(x)):\n",
    "        y_pred.append(w@x[i]+b)\n",
    "    return np.array(y_pred)\n",
    "\n",
    "# for loss function\n",
    "def loss(y,y_pred):\n",
    "    n=len(y)\n",
    "    s=0\n",
    "    for i in range(n):\n",
    "        s+=(y[i]-y_pred[i])**2\n",
    "        #print(f\"S is {s}\")\n",
    "    return (1/n)*s\n",
    "\n",
    "# for Gradient(dw)\n",
    "def dldw(x,y,y_pred):\n",
    "    s=0\n",
    "    n=len(y)\n",
    "    for i in range(n):\n",
    "        s+=-x[i]*(y[i]-y_pred[i])\n",
    "    return (2/n)*s\n",
    "# for intercept (db)\n",
    "def dldb(y,y_pred):\n",
    "    s=0\n",
    "    n=len(y)\n",
    "    for i in range(n):\n",
    "        s+=-(y[i]-y_pred[i])\n",
    "    return (2/n)*s\n",
    "\n",
    "\n",
    "\n",
    "# gradient Descent method\n",
    "def gradient(x,y):\n",
    "    lr=0.001 #learning rate\n",
    "    w=np.random.randn(x.shape[1]) # initialise random weights\n",
    "    loss_list=[] # for loss function take empty list\n",
    "    b=0\n",
    "    iters=2000\n",
    "\n",
    "    \n",
    "    for i in range(iters):\n",
    "        \n",
    "        # y predictions\n",
    "        y_pred=predict_y(w,x,b)\n",
    "        #print(f\"y_predict:{y_pred}\")\n",
    "     \n",
    "        \n",
    "        # for gradient (dw)\n",
    "        w=w-lr*dldw(x,y,y_pred)\n",
    "        #print(f\"w is: {dw}\")\n",
    "        \n",
    "        # for intercept (db) \n",
    "        b=b-lr*dldb(y,y_pred)\n",
    "       \n",
    "        #for loss function\n",
    "        loss_list.append(loss(y,y_pred))\n",
    "        #print('Loss is: {loss_list}')\n",
    "    plt.plot(np.arange(1,iters),loss_list[1:])\n",
    "    plt.xlabel(\"Iters\")\n",
    "    plt.ylabel(\"Loss\")\n",
    "    return w,b\n",
    "\n"
   ]
  },
  {
   "cell_type": "code",
   "execution_count": 29,
   "metadata": {},
   "outputs": [
    {
     "data": {
      "image/png": "[encoded data removed]",
      "text/plain": [
       "<Figure size 640x480 with 1 Axes>"
      ]
     },
     "metadata": {},
     "output_type": "display_data"
    }
   ],
   "source": [
    "# w,b=gradient(X,y)\n",
    "w,b=gradient(X,y)\n"
   ]
  },
  {
   "cell_type": "code",
   "execution_count": 30,
   "metadata": {},
   "outputs": [
    {
     "data": {
      "text/html": [
       "<div>\n",
       "<style scoped>\n",
       "    .dataframe tbody tr th:only-of-type {\n",
       "        vertical-align: middle;\n",
       "    }\n",
       "\n",
       "    .dataframe tbody tr th {\n",
       "        vertical-align: top;\n",
       "    }\n",
       "\n",
       "    .dataframe thead th {\n",
       "        text-align: right;\n",
       "    }\n",
       "</style>\n",
       "<table border=\"1\" class=\"dataframe\">\n",
       "  <thead>\n",
       "    <tr style=\"text-align: right;\">\n",
       "      <th></th>\n",
       "      <th>y_actual</th>\n",
       "      <th>ypredict</th>\n",
       "    </tr>\n",
       "  </thead>\n",
       "  <tbody>\n",
       "    <tr>\n",
       "      <th>0</th>\n",
       "      <td>221900.0</td>\n",
       "      <td>272000.9</td>\n",
       "    </tr>\n",
       "    <tr>\n",
       "      <th>1</th>\n",
       "      <td>538000.0</td>\n",
       "      <td>557917.3</td>\n",
       "    </tr>\n",
       "    <tr>\n",
       "      <th>2</th>\n",
       "      <td>180000.0</td>\n",
       "      <td>236849.9</td>\n",
       "    </tr>\n",
       "    <tr>\n",
       "      <th>3</th>\n",
       "      <td>604000.0</td>\n",
       "      <td>725612.7</td>\n",
       "    </tr>\n",
       "    <tr>\n",
       "      <th>4</th>\n",
       "      <td>510000.0</td>\n",
       "      <td>481231.3</td>\n",
       "    </tr>\n",
       "    <tr>\n",
       "      <th>...</th>\n",
       "      <td>...</td>\n",
       "      <td>...</td>\n",
       "    </tr>\n",
       "    <tr>\n",
       "      <th>21608</th>\n",
       "      <td>360000.0</td>\n",
       "      <td>634603.2</td>\n",
       "    </tr>\n",
       "    <tr>\n",
       "      <th>21609</th>\n",
       "      <td>400000.0</td>\n",
       "      <td>645375.9</td>\n",
       "    </tr>\n",
       "    <tr>\n",
       "      <th>21610</th>\n",
       "      <td>402101.0</td>\n",
       "      <td>208920.7</td>\n",
       "    </tr>\n",
       "    <tr>\n",
       "      <th>21611</th>\n",
       "      <td>400000.0</td>\n",
       "      <td>610224.9</td>\n",
       "    </tr>\n",
       "    <tr>\n",
       "      <th>21612</th>\n",
       "      <td>325000.0</td>\n",
       "      <td>208920.7</td>\n",
       "    </tr>\n",
       "  </tbody>\n",
       "</table>\n",
       "<p>21613 rows × 2 columns</p>\n",
       "</div>"
      ],
      "text/plain": [
       "       y_actual  ypredict\n",
       "0      221900.0  272000.9\n",
       "1      538000.0  557917.3\n",
       "2      180000.0  236849.9\n",
       "3      604000.0  725612.7\n",
       "4      510000.0  481231.3\n",
       "...         ...       ...\n",
       "21608  360000.0  634603.2\n",
       "21609  400000.0  645375.9\n",
       "21610  402101.0  208920.7\n",
       "21611  400000.0  610224.9\n",
       "21612  325000.0  208920.7\n",
       "\n",
       "[21613 rows x 2 columns]"
      ]
     },
     "execution_count": 30,
     "metadata": {},
     "output_type": "execute_result"
    }
   ],
   "source": [
    "def predict(input):\n",
    "    y_lst=[]\n",
    "    for i in range(len(input)):\n",
    "        y_lst.append(w@input[i]+b)\n",
    "    return np.array(y_lst)\n",
    "    \n",
    "    \n",
    "    \n",
    "yhat=predict(X)\n",
    "\n",
    "df=pd.DataFrame()\n",
    "df['y_actual']=y\n",
    "df['ypredict']=np.round(yhat,1)\n",
    "df\n"
   ]
  },
  {
   "cell_type": "code",
   "execution_count": 31,
   "metadata": {},
   "outputs": [
    {
     "data": {
      "text/plain": [
       "0.2745110274400556"
      ]
     },
     "execution_count": 31,
     "metadata": {},
     "output_type": "execute_result"
    }
   ],
   "source": [
    "from sklearn.metrics import r2_score\n",
    "r2_score(y,yhat)"
   ]
  }
 ],
 "metadata": {
  "kernelspec": {
   "display_name": "Python 3",
   "language": "python",
   "name": "python3"
  },
  "language_info": {
   "codemirror_mode": {
    "name": "ipython",
    "version": 3
   },
   "file_extension": ".py",
   "mimetype": "text/x-python",
   "name": "python",
   "nbconvert_exporter": "python",
   "pygments_lexer": "ipython3",
   "version": "3.11.7"
  }
 },
 "nbformat": 4,
 "nbformat_minor": 2
}
