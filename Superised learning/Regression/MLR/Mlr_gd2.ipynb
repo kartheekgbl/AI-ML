{
 "cells": [
  {
   "cell_type": "code",
   "execution_count": 2,
   "metadata": {},
   "outputs": [],
   "source": [
    "#import Python Librarys\n",
    "\n",
    "import pandas as pd\n",
    "import numpy as np\n",
    "import matplotlib.pyplot as plt"
   ]
  },
  {
   "cell_type": "code",
   "execution_count": 3,
   "metadata": {},
   "outputs": [
    {
     "name": "stdout",
     "output_type": "stream",
     "text": [
      "   size  bedroom   price\n",
      "0  2104        3  399900\n",
      "1  1600        3  329900\n",
      "2  2400        3  369000\n",
      "3  1416        2  232000\n",
      "4  3000        4  539900\n",
      "5  2050        5  328800\n"
     ]
    }
   ],
   "source": [
    "# import Data from Excel or Csv files\n",
    "\n",
    "data=pd.read_excel(\"D:\\github-d\\AI-ML\\Datasets\\house_price.xlsx\")\n",
    "print(data)"
   ]
  },
  {
   "cell_type": "code",
   "execution_count": 4,
   "metadata": {},
   "outputs": [
    {
     "data": {
      "text/html": [
       "<div>\n",
       "<style scoped>\n",
       "    .dataframe tbody tr th:only-of-type {\n",
       "        vertical-align: middle;\n",
       "    }\n",
       "\n",
       "    .dataframe tbody tr th {\n",
       "        vertical-align: top;\n",
       "    }\n",
       "\n",
       "    .dataframe thead th {\n",
       "        text-align: right;\n",
       "    }\n",
       "</style>\n",
       "<table border=\"1\" class=\"dataframe\">\n",
       "  <thead>\n",
       "    <tr style=\"text-align: right;\">\n",
       "      <th></th>\n",
       "      <th>size</th>\n",
       "      <th>bedroom</th>\n",
       "    </tr>\n",
       "  </thead>\n",
       "  <tbody>\n",
       "    <tr>\n",
       "      <th>0</th>\n",
       "      <td>2104</td>\n",
       "      <td>3</td>\n",
       "    </tr>\n",
       "    <tr>\n",
       "      <th>1</th>\n",
       "      <td>1600</td>\n",
       "      <td>3</td>\n",
       "    </tr>\n",
       "    <tr>\n",
       "      <th>2</th>\n",
       "      <td>2400</td>\n",
       "      <td>3</td>\n",
       "    </tr>\n",
       "    <tr>\n",
       "      <th>3</th>\n",
       "      <td>1416</td>\n",
       "      <td>2</td>\n",
       "    </tr>\n",
       "    <tr>\n",
       "      <th>4</th>\n",
       "      <td>3000</td>\n",
       "      <td>4</td>\n",
       "    </tr>\n",
       "    <tr>\n",
       "      <th>5</th>\n",
       "      <td>2050</td>\n",
       "      <td>5</td>\n",
       "    </tr>\n",
       "  </tbody>\n",
       "</table>\n",
       "</div>"
      ],
      "text/plain": [
       "   size  bedroom\n",
       "0  2104        3\n",
       "1  1600        3\n",
       "2  2400        3\n",
       "3  1416        2\n",
       "4  3000        4\n",
       "5  2050        5"
      ]
     },
     "execution_count": 4,
     "metadata": {},
     "output_type": "execute_result"
    }
   ],
   "source": [
    "# Sepereate the Data as X and y\n",
    "\n",
    "X=data.drop(['price'],axis=1)\n",
    "y=data['price']\n",
    "\n",
    "X"
   ]
  },
  {
   "cell_type": "code",
   "execution_count": 5,
   "metadata": {},
   "outputs": [
    {
     "data": {
      "text/plain": [
       "array([[ 0.01581031, -0.32274861],\n",
       "       [-0.86956678, -0.32274861],\n",
       "       [ 0.53579367, -0.32274861],\n",
       "       [-1.19279968, -1.29099445],\n",
       "       [ 1.58981401,  0.64549722],\n",
       "       [-0.07905153,  1.61374306]])"
      ]
     },
     "execution_count": 5,
     "metadata": {},
     "output_type": "execute_result"
    }
   ],
   "source": [
    "# Standerdization of Data\n",
    "# make sure those are must be contain numaric values\n",
    "\n",
    "X=((X-X.mean())/X.std())\n",
    "\n",
    "\n",
    "# Make them Arrays we have to do matrix multiplication with arrays\n",
    "X=np.array(X)\n",
    "# To See the result of X and y\n",
    "X"
   ]
  },
  {
   "cell_type": "code",
   "execution_count": 6,
   "metadata": {},
   "outputs": [],
   "source": [
    "\n",
    "# for y predction\n",
    "def predict_y(w,x,b):\n",
    "    y_pred=[]\n",
    "    for i in range (len(x)):\n",
    "        y_pred.append(w@x[i]+b)\n",
    "    return np.array(y_pred)\n",
    "\n",
    "# for loss function\n",
    "def loss(y,y_pred):\n",
    "    n=len(y)\n",
    "    s=0\n",
    "    for i in range(n):\n",
    "        s+=(y[i]-y_pred[i])**2\n",
    "        #print(f\"S is {s}\")\n",
    "    return (1/n)*s\n",
    "\n",
    "# for Gradient(dw)\n",
    "def dldw(x,y,y_pred):\n",
    "    s=0\n",
    "    n=len(y)\n",
    "    for i in range(n):\n",
    "        s+=-x[i]*(y[i]-y_pred[i])\n",
    "    return (2/n)*s\n",
    "# for intercept (db)\n",
    "def dldb(y,y_pred):\n",
    "    s=0\n",
    "    n=len(y)\n",
    "    for i in range(n):\n",
    "        s+=-(y[i]-y_pred[i])\n",
    "    return (2/n)*s\n",
    "\n",
    "\n",
    "\n",
    "# gradient Descent method\n",
    "def gradient(x,y):\n",
    "    lr=0.001 #learning rate\n",
    "    w=np.random.randn(x.shape[1]) # initialise random weights\n",
    "    loss_list=[] # for loss function take empty list\n",
    "    b=0 # taking  bias is 0\n",
    "    iters=2000 # iterations\n",
    "    \n",
    "    \n",
    "    for i in range(iters):\n",
    "        \n",
    "        # y predictions\n",
    "        y_pred=predict_y(w,x,b)\n",
    "        #print(f\"y_predict:{y_pred}\")\n",
    "     \n",
    "        \n",
    "        # for gradient (dw)\n",
    "        w=w-lr*dldw(x,y,y_pred)\n",
    "        # print(f\"weight is: {w}\")\n",
    "        \n",
    "        # for intercept (db) \n",
    "        b=b-lr*dldb(y,y_pred)\n",
    "        #print(f\"bias is: {b}\")\n",
    "        #for loss function\n",
    "        \n",
    "        loss_list.append(loss(y,y_pred))\n",
    "        #print('Loss is: {loss_list}')\n",
    "    plt.plot(np.arange(1,iters),loss_list[1:])\n",
    "    plt.xlabel(\"Iters\")\n",
    "    plt.ylabel(\"Loss\")\n",
    "    return w,b\n",
    "\n"
   ]
  },
  {
   "cell_type": "code",
   "execution_count": 7,
   "metadata": {},
   "outputs": [
    {
     "data": {
      "image/png": "[encoded data removed]",
      "text/plain": [
       "<Figure size 640x480 with 1 Axes>"
      ]
     },
     "metadata": {},
     "output_type": "display_data"
    }
   ],
   "source": [
    "# w,b=gradient(X,y)\n",
    "w,b=gradient(X,y)\n"
   ]
  },
  {
   "cell_type": "code",
   "execution_count": 8,
   "metadata": {},
   "outputs": [
    {
     "data": {
      "text/html": [
       "<div>\n",
       "<style scoped>\n",
       "    .dataframe tbody tr th:only-of-type {\n",
       "        vertical-align: middle;\n",
       "    }\n",
       "\n",
       "    .dataframe tbody tr th {\n",
       "        vertical-align: top;\n",
       "    }\n",
       "\n",
       "    .dataframe thead th {\n",
       "        text-align: right;\n",
       "    }\n",
       "</style>\n",
       "<table border=\"1\" class=\"dataframe\">\n",
       "  <thead>\n",
       "    <tr style=\"text-align: right;\">\n",
       "      <th></th>\n",
       "      <th>y_actual</th>\n",
       "      <th>ypredict</th>\n",
       "    </tr>\n",
       "  </thead>\n",
       "  <tbody>\n",
       "    <tr>\n",
       "      <th>0</th>\n",
       "      <td>399900</td>\n",
       "      <td>359540.6</td>\n",
       "    </tr>\n",
       "    <tr>\n",
       "      <th>1</th>\n",
       "      <td>329900</td>\n",
       "      <td>282886.0</td>\n",
       "    </tr>\n",
       "    <tr>\n",
       "      <th>2</th>\n",
       "      <td>369000</td>\n",
       "      <td>404560.0</td>\n",
       "    </tr>\n",
       "    <tr>\n",
       "      <th>3</th>\n",
       "      <td>232000</td>\n",
       "      <td>249728.4</td>\n",
       "    </tr>\n",
       "    <tr>\n",
       "      <th>4</th>\n",
       "      <td>539900</td>\n",
       "      <td>500988.1</td>\n",
       "    </tr>\n",
       "    <tr>\n",
       "      <th>5</th>\n",
       "      <td>328800</td>\n",
       "      <td>361672.7</td>\n",
       "    </tr>\n",
       "  </tbody>\n",
       "</table>\n",
       "</div>"
      ],
      "text/plain": [
       "   y_actual  ypredict\n",
       "0    399900  359540.6\n",
       "1    329900  282886.0\n",
       "2    369000  404560.0\n",
       "3    232000  249728.4\n",
       "4    539900  500988.1\n",
       "5    328800  361672.7"
      ]
     },
     "execution_count": 8,
     "metadata": {},
     "output_type": "execute_result"
    }
   ],
   "source": [
    "def predict(input):\n",
    "    y_lst=[]\n",
    "    for i in range(len(input)):\n",
    "        y_lst.append(w@input[i]+b)\n",
    "    return np.array(y_lst)\n",
    "    \n",
    "    \n",
    "# Crating dataframe with predicted and actual values   \n",
    "yhat=predict(X)\n",
    "\n",
    "df=pd.DataFrame()\n",
    "df['y_actual']=y\n",
    "df['ypredict']=np.round(yhat,1)\n",
    "df\n"
   ]
  },
  {
   "cell_type": "code",
   "execution_count": 10,
   "metadata": {},
   "outputs": [
    {
     "data": {
      "text/plain": [
       "0.8460281650006027"
      ]
     },
     "execution_count": 10,
     "metadata": {},
     "output_type": "execute_result"
    }
   ],
   "source": [
    "from sklearn.metrics import r2_score\n",
    "r2_score(y,yhat)"
   ]
  },
  {
   "cell_type": "code",
   "execution_count": null,
   "metadata": {},
   "outputs": [],
   "source": []
  }
 ],
 "metadata": {
  "kernelspec": {
   "display_name": "Python 3",
   "language": "python",
   "name": "python3"
  },
  "language_info": {
   "codemirror_mode": {
    "name": "ipython",
    "version": 3
   },
   "file_extension": ".py",
   "mimetype": "text/x-python",
   "name": "python",
   "nbconvert_exporter": "python",
   "pygments_lexer": "ipython3",
   "version": "3.11.7"
  }
 },
 "nbformat": 4,
 "nbformat_minor": 2
}
